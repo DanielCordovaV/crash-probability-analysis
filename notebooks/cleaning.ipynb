{
 "cells": [
  {
   "cell_type": "markdown",
   "metadata": {},
   "source": [
    "# Importar las librerías"
   ]
  },
  {
   "cell_type": "code",
   "execution_count": 1,
   "metadata": {},
   "outputs": [],
   "source": [
    "import pandas as pd"
   ]
  },
  {
   "cell_type": "markdown",
   "metadata": {},
   "source": [
    "# Importar los datos"
   ]
  },
  {
   "cell_type": "code",
   "execution_count": 2,
   "metadata": {},
   "outputs": [
    {
     "name": "stderr",
     "output_type": "stream",
     "text": [
      "/Users/Pablo/opt/anaconda3/lib/python3.7/site-packages/IPython/core/interactiveshell.py:3058: DtypeWarning: Columns (12,13,21) have mixed types. Specify dtype option on import or set low_memory=False.\n",
      "  interactivity=interactivity, compiler=compiler, result=result)\n"
     ]
    },
    {
     "data": {
      "text/html": [
       "<div>\n",
       "<style scoped>\n",
       "    .dataframe tbody tr th:only-of-type {\n",
       "        vertical-align: middle;\n",
       "    }\n",
       "\n",
       "    .dataframe tbody tr th {\n",
       "        vertical-align: top;\n",
       "    }\n",
       "\n",
       "    .dataframe thead th {\n",
       "        text-align: right;\n",
       "    }\n",
       "</style>\n",
       "<table border=\"1\" class=\"dataframe\">\n",
       "  <thead>\n",
       "    <tr style=\"text-align: right;\">\n",
       "      <th></th>\n",
       "      <th>FOLIO_ID</th>\n",
       "      <th>LAT</th>\n",
       "      <th>LONG</th>\n",
       "      <th>CODIGO POSTAL</th>\n",
       "      <th>CALLE</th>\n",
       "      <th>COLONIA</th>\n",
       "      <th>CAUSA SINIESTRO</th>\n",
       "      <th>TIPO VEHICULO</th>\n",
       "      <th>COLOR</th>\n",
       "      <th>MODELO_VEHICULO</th>\n",
       "      <th>...</th>\n",
       "      <th>AÑO</th>\n",
       "      <th>MES</th>\n",
       "      <th>DÍA NUMERO</th>\n",
       "      <th>DIA</th>\n",
       "      <th>HORA</th>\n",
       "      <th>ESTADO</th>\n",
       "      <th>CIUDAD_APROXIMADA</th>\n",
       "      <th>DATE</th>\n",
       "      <th>Unnamed: 20</th>\n",
       "      <th>Unnamed: 21</th>\n",
       "    </tr>\n",
       "  </thead>\n",
       "  <tbody>\n",
       "    <tr>\n",
       "      <td>0</td>\n",
       "      <td>D00001</td>\n",
       "      <td>22.768507</td>\n",
       "      <td>-102.567896</td>\n",
       "      <td>98000</td>\n",
       "      <td>*EP 2 Boulevard Adolfo López Mateos</td>\n",
       "      <td>CERRADA DE CASA BLANCA</td>\n",
       "      <td>COLISION Y/O VUELCO</td>\n",
       "      <td>Camión</td>\n",
       "      <td>BLANCO</td>\n",
       "      <td>2016</td>\n",
       "      <td>...</td>\n",
       "      <td>2018</td>\n",
       "      <td>1</td>\n",
       "      <td>11</td>\n",
       "      <td>JUEVES</td>\n",
       "      <td>15</td>\n",
       "      <td>NUEVO LEÓN</td>\n",
       "      <td>SAN NICOLAS DE LOS GARZA</td>\n",
       "      <td>11/01/2018</td>\n",
       "      <td>NaN</td>\n",
       "      <td>NaN</td>\n",
       "    </tr>\n",
       "    <tr>\n",
       "      <td>1</td>\n",
       "      <td>D00002</td>\n",
       "      <td>25.647351</td>\n",
       "      <td>-100.140132</td>\n",
       "      <td>67277</td>\n",
       "      <td>AMERICA 65</td>\n",
       "      <td>BALCONES DE ZINDARO</td>\n",
       "      <td>COLISION Y/O VUELCO</td>\n",
       "      <td>Camión</td>\n",
       "      <td>BLANCO</td>\n",
       "      <td>2009</td>\n",
       "      <td>...</td>\n",
       "      <td>2018</td>\n",
       "      <td>1</td>\n",
       "      <td>25</td>\n",
       "      <td>JUEVES</td>\n",
       "      <td>10</td>\n",
       "      <td>NUEVO LEÓN</td>\n",
       "      <td>JUAREZ</td>\n",
       "      <td>25/01/2018</td>\n",
       "      <td>NaN</td>\n",
       "      <td>NaN</td>\n",
       "    </tr>\n",
       "    <tr>\n",
       "      <td>2</td>\n",
       "      <td>D00003</td>\n",
       "      <td>20.679917</td>\n",
       "      <td>-103.368657</td>\n",
       "      <td>44600</td>\n",
       "      <td>AV MEXICO</td>\n",
       "      <td>2 RIOS</td>\n",
       "      <td>COLISION Y/O VUELCO</td>\n",
       "      <td>Auto</td>\n",
       "      <td>BLANCO</td>\n",
       "      <td>2005</td>\n",
       "      <td>...</td>\n",
       "      <td>2018</td>\n",
       "      <td>1</td>\n",
       "      <td>15</td>\n",
       "      <td>LUNES</td>\n",
       "      <td>9</td>\n",
       "      <td>NUEVO LEÓN</td>\n",
       "      <td>GUADALUPE</td>\n",
       "      <td>15/01/2018</td>\n",
       "      <td>NaN</td>\n",
       "      <td>NaN</td>\n",
       "    </tr>\n",
       "    <tr>\n",
       "      <td>3</td>\n",
       "      <td>D00004</td>\n",
       "      <td>25.718027</td>\n",
       "      <td>-100.249990</td>\n",
       "      <td>66480</td>\n",
       "      <td>Avenida Conductores</td>\n",
       "      <td>Conductores Infonavit</td>\n",
       "      <td>COLISION Y/O VUELCO</td>\n",
       "      <td>Auto</td>\n",
       "      <td>GRIS</td>\n",
       "      <td>2016</td>\n",
       "      <td>...</td>\n",
       "      <td>2018</td>\n",
       "      <td>1</td>\n",
       "      <td>19</td>\n",
       "      <td>VIERNES</td>\n",
       "      <td>9</td>\n",
       "      <td>NUEVO LEÓN</td>\n",
       "      <td>SAN NICOLAS DE LOS GARZA</td>\n",
       "      <td>19/01/2018</td>\n",
       "      <td>NaN</td>\n",
       "      <td>NaN</td>\n",
       "    </tr>\n",
       "    <tr>\n",
       "      <td>4</td>\n",
       "      <td>D00005</td>\n",
       "      <td>19.266303</td>\n",
       "      <td>-99.331791</td>\n",
       "      <td>\\N</td>\n",
       "      <td>UBERP3</td>\n",
       "      <td>Cuajimalpa</td>\n",
       "      <td>HUELGAS Y ALBOROTOS</td>\n",
       "      <td>Auto</td>\n",
       "      <td>NEGRO</td>\n",
       "      <td>2016</td>\n",
       "      <td>...</td>\n",
       "      <td>2018</td>\n",
       "      <td>1</td>\n",
       "      <td>3</td>\n",
       "      <td>MIERCOLES</td>\n",
       "      <td>16</td>\n",
       "      <td>NUEVO LEÓN</td>\n",
       "      <td>MONTERREY</td>\n",
       "      <td>03/01/2018</td>\n",
       "      <td>NaN</td>\n",
       "      <td>NaN</td>\n",
       "    </tr>\n",
       "  </tbody>\n",
       "</table>\n",
       "<p>5 rows × 22 columns</p>\n",
       "</div>"
      ],
      "text/plain": [
       "   FOLIO_ID        LAT        LONG CODIGO POSTAL  \\\n",
       "0    D00001  22.768507 -102.567896         98000   \n",
       "1    D00002  25.647351 -100.140132         67277   \n",
       "2    D00003  20.679917 -103.368657         44600   \n",
       "3    D00004  25.718027 -100.249990         66480   \n",
       "4    D00005  19.266303  -99.331791            \\N   \n",
       "\n",
       "                                 CALLE                 COLONIA  \\\n",
       "0  *EP 2 Boulevard Adolfo López Mateos  CERRADA DE CASA BLANCA   \n",
       "1                           AMERICA 65     BALCONES DE ZINDARO   \n",
       "2                            AV MEXICO                  2 RIOS   \n",
       "3                  Avenida Conductores   Conductores Infonavit   \n",
       "4                               UBERP3              Cuajimalpa   \n",
       "\n",
       "       CAUSA SINIESTRO TIPO VEHICULO   COLOR MODELO_VEHICULO  ...   AÑO MES  \\\n",
       "0  COLISION Y/O VUELCO        Camión  BLANCO            2016  ...  2018   1   \n",
       "1  COLISION Y/O VUELCO        Camión  BLANCO            2009  ...  2018   1   \n",
       "2  COLISION Y/O VUELCO          Auto  BLANCO            2005  ...  2018   1   \n",
       "3  COLISION Y/O VUELCO          Auto    GRIS            2016  ...  2018   1   \n",
       "4  HUELGAS Y ALBOROTOS          Auto   NEGRO            2016  ...  2018   1   \n",
       "\n",
       "  DÍA NUMERO        DIA  HORA      ESTADO         CIUDAD_APROXIMADA  \\\n",
       "0         11     JUEVES    15  NUEVO LEÓN  SAN NICOLAS DE LOS GARZA   \n",
       "1         25     JUEVES    10  NUEVO LEÓN                    JUAREZ   \n",
       "2         15      LUNES     9  NUEVO LEÓN                 GUADALUPE   \n",
       "3         19    VIERNES     9  NUEVO LEÓN  SAN NICOLAS DE LOS GARZA   \n",
       "4          3  MIERCOLES    16  NUEVO LEÓN                 MONTERREY   \n",
       "\n",
       "         DATE  Unnamed: 20 Unnamed: 21  \n",
       "0  11/01/2018          NaN         NaN  \n",
       "1  25/01/2018          NaN         NaN  \n",
       "2  15/01/2018          NaN         NaN  \n",
       "3  19/01/2018          NaN         NaN  \n",
       "4  03/01/2018          NaN         NaN  \n",
       "\n",
       "[5 rows x 22 columns]"
      ]
     },
     "execution_count": 2,
     "metadata": {},
     "output_type": "execute_result"
    }
   ],
   "source": [
    "data = pd.read_csv(\"../datasets/datlas.csv\")\n",
    "data.head()"
   ]
  },
  {
   "cell_type": "markdown",
   "metadata": {},
   "source": [
    "# Información de los datos"
   ]
  },
  {
   "cell_type": "code",
   "execution_count": 3,
   "metadata": {},
   "outputs": [
    {
     "name": "stdout",
     "output_type": "stream",
     "text": [
      "FILAS:      116011\n",
      "COLUMNAS:   22\n"
     ]
    }
   ],
   "source": [
    "print(\"FILAS:     \", data.shape[0])\n",
    "print(\"COLUMNAS:  \", data.shape[1])"
   ]
  },
  {
   "cell_type": "markdown",
   "metadata": {},
   "source": [
    "**Información del dataset**"
   ]
  },
  {
   "cell_type": "code",
   "execution_count": 6,
   "metadata": {},
   "outputs": [
    {
     "name": "stdout",
     "output_type": "stream",
     "text": [
      "<class 'pandas.core.frame.DataFrame'>\n",
      "RangeIndex: 116011 entries, 0 to 116010\n",
      "Data columns (total 22 columns):\n",
      " FOLIO_ID              116011 non-null object\n",
      "LAT                    113854 non-null float64\n",
      "LONG                   113854 non-null float64\n",
      "CODIGO POSTAL          115926 non-null object\n",
      "CALLE                  116011 non-null object\n",
      "COLONIA                115921 non-null object\n",
      "CAUSA SINIESTRO        116011 non-null object\n",
      "TIPO VEHICULO          115917 non-null object\n",
      "COLOR                  115852 non-null object\n",
      "MODELO_VEHICULO        115925 non-null object\n",
      "NIVEL DAÑO VEHICULO    115088 non-null object\n",
      "PUNTO DE IMPACTO       104935 non-null object\n",
      "AÑO                    116008 non-null object\n",
      "MES                    116011 non-null object\n",
      "DÍA NUMERO             116011 non-null int64\n",
      "DIA                    116011 non-null object\n",
      "HORA                   116011 non-null object\n",
      "ESTADO                 116011 non-null object\n",
      "CIUDAD_APROXIMADA      116011 non-null object\n",
      "DATE                   116011 non-null object\n",
      "Unnamed: 20            8 non-null object\n",
      "Unnamed: 21            1 non-null object\n",
      "dtypes: float64(2), int64(1), object(19)\n",
      "memory usage: 19.5+ MB\n"
     ]
    }
   ],
   "source": [
    "data.info()"
   ]
  },
  {
   "cell_type": "markdown",
   "metadata": {},
   "source": [
    "**Borrar columnas que no sirven**"
   ]
  },
  {
   "cell_type": "code",
   "execution_count": 9,
   "metadata": {},
   "outputs": [
    {
     "name": "stdout",
     "output_type": "stream",
     "text": [
      "<class 'pandas.core.frame.DataFrame'>\n",
      "RangeIndex: 116011 entries, 0 to 116010\n",
      "Data columns (total 20 columns):\n",
      " FOLIO_ID              116011 non-null object\n",
      "LAT                    113854 non-null float64\n",
      "LONG                   113854 non-null float64\n",
      "CODIGO POSTAL          115926 non-null object\n",
      "CALLE                  116011 non-null object\n",
      "COLONIA                115921 non-null object\n",
      "CAUSA SINIESTRO        116011 non-null object\n",
      "TIPO VEHICULO          115917 non-null object\n",
      "COLOR                  115852 non-null object\n",
      "MODELO_VEHICULO        115925 non-null object\n",
      "NIVEL DAÑO VEHICULO    115088 non-null object\n",
      "PUNTO DE IMPACTO       104935 non-null object\n",
      "AÑO                    116008 non-null object\n",
      "MES                    116011 non-null object\n",
      "DÍA NUMERO             116011 non-null int64\n",
      "DIA                    116011 non-null object\n",
      "HORA                   116011 non-null object\n",
      "ESTADO                 116011 non-null object\n",
      "CIUDAD_APROXIMADA      116011 non-null object\n",
      "DATE                   116011 non-null object\n",
      "dtypes: float64(2), int64(1), object(17)\n",
      "memory usage: 17.7+ MB\n"
     ]
    }
   ],
   "source": [
    "data = data.drop([\"Unnamed: 20\", \"Unnamed: 21\"], axis=1)\n",
    "data.info()"
   ]
  },
  {
   "cell_type": "markdown",
   "metadata": {},
   "source": [
    "**Como tenemos demasiados datos de los que podemos hacer un modelo, y por el tiempo con el que contamos vamos a darnos el lujo de eliminar cualquier columnas que contenga algun dato vacío**"
   ]
  },
  {
   "cell_type": "code",
   "execution_count": 10,
   "metadata": {},
   "outputs": [
    {
     "name": "stdout",
     "output_type": "stream",
     "text": [
      "<class 'pandas.core.frame.DataFrame'>\n",
      "Int64Index: 102977 entries, 1 to 116010\n",
      "Data columns (total 20 columns):\n",
      " FOLIO_ID              102977 non-null object\n",
      "LAT                    102977 non-null float64\n",
      "LONG                   102977 non-null float64\n",
      "CODIGO POSTAL          102977 non-null object\n",
      "CALLE                  102977 non-null object\n",
      "COLONIA                102977 non-null object\n",
      "CAUSA SINIESTRO        102977 non-null object\n",
      "TIPO VEHICULO          102977 non-null object\n",
      "COLOR                  102977 non-null object\n",
      "MODELO_VEHICULO        102977 non-null object\n",
      "NIVEL DAÑO VEHICULO    102977 non-null object\n",
      "PUNTO DE IMPACTO       102977 non-null object\n",
      "AÑO                    102977 non-null object\n",
      "MES                    102977 non-null object\n",
      "DÍA NUMERO             102977 non-null int64\n",
      "DIA                    102977 non-null object\n",
      "HORA                   102977 non-null object\n",
      "ESTADO                 102977 non-null object\n",
      "CIUDAD_APROXIMADA      102977 non-null object\n",
      "DATE                   102977 non-null object\n",
      "dtypes: float64(2), int64(1), object(17)\n",
      "memory usage: 16.5+ MB\n"
     ]
    }
   ],
   "source": [
    "data.dropna(how=\"any\", axis=0, inplace=True)\n",
    "data.info()"
   ]
  },
  {
   "cell_type": "markdown",
   "metadata": {},
   "source": [
    "**Tamaño del dataset sobrante**"
   ]
  },
  {
   "cell_type": "code",
   "execution_count": 11,
   "metadata": {},
   "outputs": [
    {
     "name": "stdout",
     "output_type": "stream",
     "text": [
      "FILAS:      102977\n",
      "COLUMNAS:   20\n"
     ]
    }
   ],
   "source": [
    "print(\"FILAS:     \", data.shape[0])\n",
    "print(\"COLUMNAS:  \", data.shape[1])"
   ]
  },
  {
   "cell_type": "markdown",
   "metadata": {},
   "source": [
    "### Eliminar las filas que no nos sirven para los análisis"
   ]
  },
  {
   "cell_type": "markdown",
   "metadata": {},
   "source": [
    "**Eliminar el número de Folio**"
   ]
  },
  {
   "cell_type": "code",
   "execution_count": 12,
   "metadata": {},
   "outputs": [
    {
     "name": "stdout",
     "output_type": "stream",
     "text": [
      "<class 'pandas.core.frame.DataFrame'>\n",
      "Int64Index: 102977 entries, 1 to 116010\n",
      "Data columns (total 19 columns):\n",
      "LAT                    102977 non-null float64\n",
      "LONG                   102977 non-null float64\n",
      "CODIGO POSTAL          102977 non-null object\n",
      "CALLE                  102977 non-null object\n",
      "COLONIA                102977 non-null object\n",
      "CAUSA SINIESTRO        102977 non-null object\n",
      "TIPO VEHICULO          102977 non-null object\n",
      "COLOR                  102977 non-null object\n",
      "MODELO_VEHICULO        102977 non-null object\n",
      "NIVEL DAÑO VEHICULO    102977 non-null object\n",
      "PUNTO DE IMPACTO       102977 non-null object\n",
      "AÑO                    102977 non-null object\n",
      "MES                    102977 non-null object\n",
      "DÍA NUMERO             102977 non-null int64\n",
      "DIA                    102977 non-null object\n",
      "HORA                   102977 non-null object\n",
      "ESTADO                 102977 non-null object\n",
      "CIUDAD_APROXIMADA      102977 non-null object\n",
      "DATE                   102977 non-null object\n",
      "dtypes: float64(2), int64(1), object(16)\n",
      "memory usage: 15.7+ MB\n"
     ]
    }
   ],
   "source": [
    "data = data.drop(\" FOLIO_ID\", axis=1)\n",
    "data.info()"
   ]
  },
  {
   "cell_type": "markdown",
   "metadata": {},
   "source": [
    "**Eliminar la calle, colonia, codigo postal**"
   ]
  },
  {
   "cell_type": "code",
   "execution_count": 14,
   "metadata": {},
   "outputs": [
    {
     "name": "stdout",
     "output_type": "stream",
     "text": [
      "<class 'pandas.core.frame.DataFrame'>\n",
      "Int64Index: 102977 entries, 1 to 116010\n",
      "Data columns (total 16 columns):\n",
      "LAT                    102977 non-null float64\n",
      "LONG                   102977 non-null float64\n",
      "CAUSA SINIESTRO        102977 non-null object\n",
      "TIPO VEHICULO          102977 non-null object\n",
      "COLOR                  102977 non-null object\n",
      "MODELO_VEHICULO        102977 non-null object\n",
      "NIVEL DAÑO VEHICULO    102977 non-null object\n",
      "PUNTO DE IMPACTO       102977 non-null object\n",
      "AÑO                    102977 non-null object\n",
      "MES                    102977 non-null object\n",
      "DÍA NUMERO             102977 non-null int64\n",
      "DIA                    102977 non-null object\n",
      "HORA                   102977 non-null object\n",
      "ESTADO                 102977 non-null object\n",
      "CIUDAD_APROXIMADA      102977 non-null object\n",
      "DATE                   102977 non-null object\n",
      "dtypes: float64(2), int64(1), object(13)\n",
      "memory usage: 18.4+ MB\n"
     ]
    }
   ],
   "source": [
    "data = data.drop([\"CALLE\", \"CODIGO POSTAL\", \"COLONIA\"], axis=1)\n",
    "data.info()"
   ]
  },
  {
   "cell_type": "markdown",
   "metadata": {},
   "source": [
    "**Eliminar el color y modelo del vehículo**"
   ]
  },
  {
   "cell_type": "code",
   "execution_count": 15,
   "metadata": {},
   "outputs": [
    {
     "name": "stdout",
     "output_type": "stream",
     "text": [
      "<class 'pandas.core.frame.DataFrame'>\n",
      "Int64Index: 102977 entries, 1 to 116010\n",
      "Data columns (total 14 columns):\n",
      "LAT                    102977 non-null float64\n",
      "LONG                   102977 non-null float64\n",
      "CAUSA SINIESTRO        102977 non-null object\n",
      "TIPO VEHICULO          102977 non-null object\n",
      "NIVEL DAÑO VEHICULO    102977 non-null object\n",
      "PUNTO DE IMPACTO       102977 non-null object\n",
      "AÑO                    102977 non-null object\n",
      "MES                    102977 non-null object\n",
      "DÍA NUMERO             102977 non-null int64\n",
      "DIA                    102977 non-null object\n",
      "HORA                   102977 non-null object\n",
      "ESTADO                 102977 non-null object\n",
      "CIUDAD_APROXIMADA      102977 non-null object\n",
      "DATE                   102977 non-null object\n",
      "dtypes: float64(2), int64(1), object(11)\n",
      "memory usage: 16.8+ MB\n"
     ]
    }
   ],
   "source": [
    "data = data.drop([\"COLOR\", \"MODELO_VEHICULO\"], axis=1)\n",
    "data.info()"
   ]
  },
  {
   "cell_type": "markdown",
   "metadata": {},
   "source": [
    "**Eliminar el Estado ya que todos están en Nuevo León**"
   ]
  },
  {
   "cell_type": "code",
   "execution_count": 17,
   "metadata": {},
   "outputs": [
    {
     "name": "stdout",
     "output_type": "stream",
     "text": [
      "<class 'pandas.core.frame.DataFrame'>\n",
      "Int64Index: 102977 entries, 1 to 116010\n",
      "Data columns (total 13 columns):\n",
      "LAT                    102977 non-null float64\n",
      "LONG                   102977 non-null float64\n",
      "CAUSA SINIESTRO        102977 non-null object\n",
      "TIPO VEHICULO          102977 non-null object\n",
      "NIVEL DAÑO VEHICULO    102977 non-null object\n",
      "PUNTO DE IMPACTO       102977 non-null object\n",
      "AÑO                    102977 non-null object\n",
      "MES                    102977 non-null object\n",
      "DÍA NUMERO             102977 non-null int64\n",
      "DIA                    102977 non-null object\n",
      "HORA                   102977 non-null object\n",
      "CIUDAD_APROXIMADA      102977 non-null object\n",
      "DATE                   102977 non-null object\n",
      "dtypes: float64(2), int64(1), object(10)\n",
      "memory usage: 16.0+ MB\n"
     ]
    }
   ],
   "source": [
    "data = data.drop(\"ESTADO\", axis=1)\n",
    "data.info()"
   ]
  },
  {
   "cell_type": "markdown",
   "metadata": {},
   "source": [
    "**Eliminar DATE porque ya tenemos la información en otras columnas**"
   ]
  },
  {
   "cell_type": "code",
   "execution_count": 22,
   "metadata": {},
   "outputs": [
    {
     "name": "stdout",
     "output_type": "stream",
     "text": [
      "<class 'pandas.core.frame.DataFrame'>\n",
      "Int64Index: 102977 entries, 1 to 116010\n",
      "Data columns (total 12 columns):\n",
      "LAT                    102977 non-null float64\n",
      "LONG                   102977 non-null float64\n",
      "CAUSA SINIESTRO        102977 non-null object\n",
      "TIPO VEHICULO          102977 non-null object\n",
      "NIVEL DAÑO VEHICULO    102977 non-null object\n",
      "PUNTO DE IMPACTO       102977 non-null object\n",
      "AÑO                    102977 non-null object\n",
      "MES                    102977 non-null object\n",
      "DÍA NUMERO             102977 non-null int64\n",
      "DIA                    102977 non-null object\n",
      "HORA                   102977 non-null object\n",
      "CIUDAD_APROXIMADA      102977 non-null object\n",
      "dtypes: float64(2), int64(1), object(9)\n",
      "memory usage: 15.2+ MB\n"
     ]
    }
   ],
   "source": [
    "data = data.drop(\"DATE \", axis=1)\n",
    "data.info()"
   ]
  },
  {
   "cell_type": "markdown",
   "metadata": {},
   "source": [
    "## Ahora limpiar los datos dependiendo de la información que contienen"
   ]
  },
  {
   "cell_type": "markdown",
   "metadata": {},
   "source": [
    "**Solo información que está dentro de Nuevo León. Acotado por:**\n",
    "*  LONG(-102, -95)\n",
    "*  LAT(>22.5)"
   ]
  },
  {
   "cell_type": "code",
   "execution_count": 25,
   "metadata": {},
   "outputs": [
    {
     "name": "stdout",
     "output_type": "stream",
     "text": [
      "COLUMNAS INICIALES: 102977\n"
     ]
    }
   ],
   "source": [
    "print(f\"COLUMNAS INICIALES: {data.shape[0]}\")"
   ]
  },
  {
   "cell_type": "code",
   "execution_count": 26,
   "metadata": {},
   "outputs": [
    {
     "name": "stdout",
     "output_type": "stream",
     "text": [
      "COLUMNAS: 94822\n"
     ]
    }
   ],
   "source": [
    "data_filtered_long_01 = data[data[\"LONG\"] < -95]\n",
    "print(f\"COLUMNAS: {data_filtered_long_01.shape[0]}\")"
   ]
  },
  {
   "cell_type": "code",
   "execution_count": 28,
   "metadata": {},
   "outputs": [
    {
     "name": "stdout",
     "output_type": "stream",
     "text": [
      "COLUMNAS: 94809\n"
     ]
    }
   ],
   "source": [
    "data_filtered_long_02 = data_filtered_long_01[data_filtered_long_01[\"LONG\"] > -102]\n",
    "print(f\"COLUMNAS: {data_filtered_long_02.shape[0]}\")"
   ]
  },
  {
   "cell_type": "code",
   "execution_count": 29,
   "metadata": {},
   "outputs": [
    {
     "name": "stdout",
     "output_type": "stream",
     "text": [
      "COLUMNAS: 94776\n"
     ]
    }
   ],
   "source": [
    "data_filtered_long_03 = data_filtered_long_02[data_filtered_long_02[\"LAT\"] > 22.5]\n",
    "print(f\"COLUMNAS: {data_filtered_long_03.shape[0]}\")"
   ]
  },
  {
   "cell_type": "code",
   "execution_count": 30,
   "metadata": {},
   "outputs": [
    {
     "name": "stdout",
     "output_type": "stream",
     "text": [
      "FILAS NUEVAS: 94776\n"
     ]
    }
   ],
   "source": [
    "data = data_filtered_long_03\n",
    "print(f\"FILAS NUEVAS: {data.shape[0]}\")"
   ]
  },
  {
   "cell_type": "markdown",
   "metadata": {},
   "source": [
    "**Vamos a revisar que las causas del siniestro no tengan valores raros**"
   ]
  },
  {
   "cell_type": "code",
   "execution_count": 31,
   "metadata": {},
   "outputs": [
    {
     "data": {
      "text/plain": [
       "array(['COLISION Y/O VUELCO', 'ATROPELLO', 'INCENDIO RAYO O EXPLOSION',\n",
       "       'DAÑOS POR LA CARGA', 'HUELGAS Y ALBOROTOS',\n",
       "       'FENOMENOS DE LA NATURALEZA', 'TRANSPORTACION', 'Real de Cumbres',\n",
       "       'Parque Industrial Pedreras'], dtype=object)"
      ]
     },
     "execution_count": 31,
     "metadata": {},
     "output_type": "execute_result"
    }
   ],
   "source": [
    "data[\"CAUSA SINIESTRO\"].unique()"
   ]
  },
  {
   "cell_type": "code",
   "execution_count": 32,
   "metadata": {},
   "outputs": [
    {
     "name": "stdout",
     "output_type": "stream",
     "text": [
      "FILAS NUEVAS: 94774\n"
     ]
    }
   ],
   "source": [
    "data_filtered_01 = data[data[\"CAUSA SINIESTRO\"] != \"Real de Cumbres\"]\n",
    "print(f\"FILAS NUEVAS: {data_filtered_01.shape[0]}\")"
   ]
  },
  {
   "cell_type": "code",
   "execution_count": 33,
   "metadata": {},
   "outputs": [
    {
     "name": "stdout",
     "output_type": "stream",
     "text": [
      "FILAS NUEVAS: 94773\n"
     ]
    }
   ],
   "source": [
    "data_filtered_02 = data_filtered_01[data_filtered_01[\"CAUSA SINIESTRO\"] != \"Parque Industrial Pedreras\"]\n",
    "print(f\"FILAS NUEVAS: {data_filtered_02.shape[0]}\")"
   ]
  },
  {
   "cell_type": "code",
   "execution_count": 35,
   "metadata": {},
   "outputs": [
    {
     "name": "stdout",
     "output_type": "stream",
     "text": [
      "FILAS RESTANTES: 94773\n"
     ]
    }
   ],
   "source": [
    "data = data_filtered_02\n",
    "print(f\"FILAS RESTANTES: {data.shape[0]}\")"
   ]
  },
  {
   "cell_type": "markdown",
   "metadata": {},
   "source": [
    "**Ahora vamos a revisar el tipo de vehículo**"
   ]
  },
  {
   "cell_type": "code",
   "execution_count": 38,
   "metadata": {},
   "outputs": [
    {
     "data": {
      "text/plain": [
       "array(['Camión', 'Auto', 'Camión Ligero', 'Motocicleta', '\\\\N'],\n",
       "      dtype=object)"
      ]
     },
     "execution_count": 38,
     "metadata": {},
     "output_type": "execute_result"
    }
   ],
   "source": [
    "data[\"TIPO VEHICULO\"].unique()"
   ]
  },
  {
   "cell_type": "code",
   "execution_count": 39,
   "metadata": {},
   "outputs": [
    {
     "name": "stdout",
     "output_type": "stream",
     "text": [
      "FILAS RESTANTES: 94422\n"
     ]
    }
   ],
   "source": [
    "data = data[data[\"TIPO VEHICULO\"] != \"\\\\N\"]\n",
    "print(f\"FILAS RESTANTES: {data.shape[0]}\")"
   ]
  },
  {
   "cell_type": "markdown",
   "metadata": {},
   "source": [
    "**Ahora vamos a checar el nivel de daño del vehiculo**"
   ]
  },
  {
   "cell_type": "code",
   "execution_count": 40,
   "metadata": {},
   "outputs": [
    {
     "data": {
      "text/plain": [
       "array(['Sin daño', 'Bajo', 'Medio', 'Alto'], dtype=object)"
      ]
     },
     "execution_count": 40,
     "metadata": {},
     "output_type": "execute_result"
    }
   ],
   "source": [
    "data[\"NIVEL DAÑO VEHICULO\"].unique()"
   ]
  },
  {
   "cell_type": "markdown",
   "metadata": {},
   "source": [
    "**Ahora vamos a ver el punto de impacto**"
   ]
  },
  {
   "cell_type": "code",
   "execution_count": 41,
   "metadata": {},
   "outputs": [
    {
     "data": {
      "text/plain": [
       "array(['Costado izq trasero', 'Frontal', 'Trasero', 'Costado der central',\n",
       "       'Costado izq delantero', 'Costado der trasero', 'Cofre',\n",
       "       'Tapa cajuela', 'Costado der delantero', 'Parte baja',\n",
       "       'Costado izq central', 'Toldo'], dtype=object)"
      ]
     },
     "execution_count": 41,
     "metadata": {},
     "output_type": "execute_result"
    }
   ],
   "source": [
    "data[\"PUNTO DE IMPACTO\"].unique()"
   ]
  },
  {
   "cell_type": "markdown",
   "metadata": {},
   "source": [
    "Como no nos es de gran ayuda la columna la vamos a descartar. No nos sirve para predecir si un auto va a chocar o donde es más frecuente que choquen, solamente nos dice como se chocó."
   ]
  },
  {
   "cell_type": "code",
   "execution_count": 42,
   "metadata": {},
   "outputs": [
    {
     "name": "stdout",
     "output_type": "stream",
     "text": [
      "<class 'pandas.core.frame.DataFrame'>\n",
      "Int64Index: 94422 entries, 1 to 116010\n",
      "Data columns (total 11 columns):\n",
      "LAT                    94422 non-null float64\n",
      "LONG                   94422 non-null float64\n",
      "CAUSA SINIESTRO        94422 non-null object\n",
      "TIPO VEHICULO          94422 non-null object\n",
      "NIVEL DAÑO VEHICULO    94422 non-null object\n",
      "AÑO                    94422 non-null object\n",
      "MES                    94422 non-null object\n",
      "DÍA NUMERO             94422 non-null int64\n",
      "DIA                    94422 non-null object\n",
      "HORA                   94422 non-null object\n",
      "CIUDAD_APROXIMADA      94422 non-null object\n",
      "dtypes: float64(2), int64(1), object(8)\n",
      "memory usage: 8.6+ MB\n"
     ]
    }
   ],
   "source": [
    "data = data.drop(\"PUNTO DE IMPACTO\", axis=1)\n",
    "data.info()"
   ]
  },
  {
   "cell_type": "markdown",
   "metadata": {},
   "source": [
    "**Ahora vamos a checar el año**"
   ]
  },
  {
   "cell_type": "code",
   "execution_count": 43,
   "metadata": {},
   "outputs": [
    {
     "data": {
      "text/plain": [
       "array(['2018', '2017', '2016', 2016.0], dtype=object)"
      ]
     },
     "execution_count": 43,
     "metadata": {},
     "output_type": "execute_result"
    }
   ],
   "source": [
    "data[\"AÑO\"].unique()"
   ]
  },
  {
   "cell_type": "markdown",
   "metadata": {},
   "source": [
    "Vamos a forzar a que la columna sea un string, para poder unir los dos **2016**"
   ]
  },
  {
   "cell_type": "code",
   "execution_count": 46,
   "metadata": {},
   "outputs": [
    {
     "name": "stdout",
     "output_type": "stream",
     "text": [
      "<class 'pandas.core.frame.DataFrame'>\n",
      "Int64Index: 94422 entries, 1 to 116010\n",
      "Data columns (total 11 columns):\n",
      "LAT                    94422 non-null float64\n",
      "LONG                   94422 non-null float64\n",
      "CAUSA SINIESTRO        94422 non-null object\n",
      "TIPO VEHICULO          94422 non-null object\n",
      "NIVEL DAÑO VEHICULO    94422 non-null object\n",
      "AÑO                    94422 non-null object\n",
      "MES                    94422 non-null object\n",
      "DÍA NUMERO             94422 non-null int64\n",
      "DIA                    94422 non-null object\n",
      "HORA                   94422 non-null object\n",
      "CIUDAD_APROXIMADA      94422 non-null object\n",
      "dtypes: float64(2), int64(1), object(8)\n",
      "memory usage: 8.6+ MB\n"
     ]
    }
   ],
   "source": [
    "data[\"AÑO\"] = data[\"AÑO\"].astype(str)\n",
    "data.info()"
   ]
  },
  {
   "cell_type": "code",
   "execution_count": 47,
   "metadata": {},
   "outputs": [
    {
     "data": {
      "text/plain": [
       "array(['2018', '2017', '2016', '2016.0'], dtype=object)"
      ]
     },
     "execution_count": 47,
     "metadata": {},
     "output_type": "execute_result"
    }
   ],
   "source": [
    "data[\"AÑO\"].unique()"
   ]
  },
  {
   "cell_type": "code",
   "execution_count": 48,
   "metadata": {},
   "outputs": [
    {
     "data": {
      "text/plain": [
       "array(['2018', '2017', '2016'], dtype=object)"
      ]
     },
     "execution_count": 48,
     "metadata": {},
     "output_type": "execute_result"
    }
   ],
   "source": [
    "years = {\n",
    "    \"2018\": \"2018\",\n",
    "    \"2017\": \"2017\",\n",
    "    \"2016\": \"2016\",\n",
    "    \"2016.0\": \"2016\"\n",
    "}\n",
    "data[\"AÑO\"] = data[\"AÑO\"].map(years)\n",
    "data[\"AÑO\"].unique()"
   ]
  },
  {
   "cell_type": "markdown",
   "metadata": {},
   "source": [
    "**Ahora vamos a checar los meses**"
   ]
  },
  {
   "cell_type": "code",
   "execution_count": 49,
   "metadata": {},
   "outputs": [
    {
     "data": {
      "text/plain": [
       "array([1, 2, 3, 4, 5, 6, 7, 8, 9, 10, 11, 12, '9', '10', '11', '12', '1',\n",
       "       '2', '3', '4', '6', '7', '8', '5'], dtype=object)"
      ]
     },
     "execution_count": 49,
     "metadata": {},
     "output_type": "execute_result"
    }
   ],
   "source": [
    "data[\"MES\"].unique()"
   ]
  },
  {
   "cell_type": "code",
   "execution_count": 53,
   "metadata": {},
   "outputs": [
    {
     "data": {
      "text/plain": [
       "array(['1', '2', '3', '4', '5', '6', '7', '8', '9', '10', '11', '12'],\n",
       "      dtype=object)"
      ]
     },
     "execution_count": 53,
     "metadata": {},
     "output_type": "execute_result"
    }
   ],
   "source": [
    "data[\"MES\"] = data[\"MES\"].astype(str)\n",
    "data[\"MES\"].unique()"
   ]
  },
  {
   "cell_type": "markdown",
   "metadata": {},
   "source": [
    "**Ahora vamos a checar los días**"
   ]
  },
  {
   "cell_type": "code",
   "execution_count": 54,
   "metadata": {},
   "outputs": [
    {
     "data": {
      "text/plain": [
       "array(['JUEVES', 'VIERNES', 'LUNES', 'MARTES', 'MIERCOLES', 'SABADO',\n",
       "       'DOMINGO'], dtype=object)"
      ]
     },
     "execution_count": 54,
     "metadata": {},
     "output_type": "execute_result"
    }
   ],
   "source": [
    "data[\"DIA\"].unique()"
   ]
  },
  {
   "cell_type": "markdown",
   "metadata": {},
   "source": [
    "**Ahora vamos a checar los números de día**"
   ]
  },
  {
   "cell_type": "code",
   "execution_count": 56,
   "metadata": {},
   "outputs": [
    {
     "data": {
      "text/plain": [
       "array([25, 19, 29, 26,  1,  2,  3,  4,  5,  6,  7,  8,  9, 10, 11, 12, 13,\n",
       "       14, 15, 16, 17, 18, 20, 21, 22, 23, 24, 27, 28, 30, 31])"
      ]
     },
     "execution_count": 56,
     "metadata": {},
     "output_type": "execute_result"
    }
   ],
   "source": [
    "data[\"DÍA NUMERO\"].unique()"
   ]
  },
  {
   "cell_type": "markdown",
   "metadata": {},
   "source": [
    "**Ahora vamos a checar la hora**"
   ]
  },
  {
   "cell_type": "code",
   "execution_count": 57,
   "metadata": {},
   "outputs": [
    {
     "data": {
      "text/plain": [
       "array(['10', '9', '17', '2', '0', '4', '5', '11', '12', '13', '14', '16',\n",
       "       '19', '20', '21', '22', '23', '7', '8', '15', '18', '6', '1', '3'],\n",
       "      dtype=object)"
      ]
     },
     "execution_count": 57,
     "metadata": {},
     "output_type": "execute_result"
    }
   ],
   "source": [
    "data[\"HORA\"].unique()"
   ]
  },
  {
   "cell_type": "markdown",
   "metadata": {},
   "source": [
    "**Ya solo falta la ciudad aproximada**"
   ]
  },
  {
   "cell_type": "code",
   "execution_count": 58,
   "metadata": {},
   "outputs": [
    {
     "data": {
      "text/plain": [
       "array(['JUAREZ', 'SAN NICOLAS DE LOS GARZA', 'GUADALUPE', 'MONTERREY',\n",
       "       'SANTIAGO', 'SABINAS HIDALGO', 'APODACA', 'ALLENDE', 'LINARES',\n",
       "       'GENERAL ESCOBEDO', 'GARZA GARCIA', 'GARCIA', 'CADEREYTA JIMENEZ',\n",
       "       'ARAMBERRI', 'MONTEMORELOS', 'SANTA CATARINA', 'HUALAHUISES',\n",
       "       'PESQUERIA', 'GENERAL TERAN', 'SALINAS VICTORIA',\n",
       "       'CIENEGA DE FLORES', 'CHINA', 'GENERAL ZUAZUA', 'CARMEN',\n",
       "       'GENERAL BRAVO', 'VILLALDAMA', 'RAMONES', 'GALEANA', 'VALLECILLO',\n",
       "       'MELCHOR OCAMPO', 'MARIN', 'MINA', 'ABASOLO', 'ANAHUAC',\n",
       "       'CUAUHTÉMOC', 'HIDALGO', 'DOCTOR ARROYO', 'LAMPAZOS DE NARANJO',\n",
       "       'CUAUHTÁ‰MOC', 'SAN RAFAEL', 'SAN ROBERTO', 'HIGUERAS', 'ITURBIDE',\n",
       "       'GENERAL ZARAGOZA', 'AGUALEGUAS', 'CERRALVO', 'CENTRO DE LINARES',\n",
       "       'BUSTAMANTE', 'DOCTOR GONZALEZ', 'RAYONES', 'DEL PASEO',\n",
       "       'ARBOLEDAS DEL VALLE', 'COLONIA MIGUEL HIDALGO',\n",
       "       'HACIENDA LOS NOGALES', 'MIRADOR RESIDENCIAL', '\\\\N', 'EL CARMEN',\n",
       "       'AQUILES SERDÁN', 'LOS ALDAMAS', 'DEL VIDRIO', 'VALLE ORIENTE'],\n",
       "      dtype=object)"
      ]
     },
     "execution_count": 58,
     "metadata": {},
     "output_type": "execute_result"
    }
   ],
   "source": [
    "data[\"CIUDAD_APROXIMADA\"].unique()"
   ]
  },
  {
   "cell_type": "code",
   "execution_count": 59,
   "metadata": {},
   "outputs": [
    {
     "name": "stdout",
     "output_type": "stream",
     "text": [
      "FILAS ANTES DE LA LIMPIEZA: 94422\n",
      "FILAS DESPUES: 94179\n"
     ]
    }
   ],
   "source": [
    "print(f\"FILAS ANTES DE LA LIMPIEZA: {data.shape[0]}\")\n",
    "data = data[data[\"CIUDAD_APROXIMADA\"] != \"\\\\N\"]\n",
    "print(f\"FILAS DESPUES: {data.shape[0]}\")"
   ]
  },
  {
   "cell_type": "code",
   "execution_count": 60,
   "metadata": {},
   "outputs": [
    {
     "data": {
      "text/plain": [
       "array(['JUAREZ', 'SAN NICOLAS DE LOS GARZA', 'GUADALUPE', 'MONTERREY',\n",
       "       'SANTIAGO', 'SABINAS HIDALGO', 'APODACA', 'ALLENDE', 'LINARES',\n",
       "       'GENERAL ESCOBEDO', 'GARZA GARCIA', 'GARCIA', 'CADEREYTA JIMENEZ',\n",
       "       'ARAMBERRI', 'MONTEMORELOS', 'SANTA CATARINA', 'HUALAHUISES',\n",
       "       'PESQUERIA', 'GENERAL TERAN', 'SALINAS VICTORIA',\n",
       "       'CIENEGA DE FLORES', 'CHINA', 'GENERAL ZUAZUA', 'CARMEN',\n",
       "       'GENERAL BRAVO', 'VILLALDAMA', 'RAMONES', 'GALEANA', 'VALLECILLO',\n",
       "       'MELCHOR OCAMPO', 'MARIN', 'MINA', 'ABASOLO', 'ANAHUAC',\n",
       "       'CUAUHTÉMOC', 'HIDALGO', 'DOCTOR ARROYO', 'LAMPAZOS DE NARANJO',\n",
       "       'CUAUHTÁ‰MOC', 'SAN RAFAEL', 'SAN ROBERTO', 'HIGUERAS', 'ITURBIDE',\n",
       "       'GENERAL ZARAGOZA', 'AGUALEGUAS', 'CERRALVO', 'CENTRO DE LINARES',\n",
       "       'BUSTAMANTE', 'DOCTOR GONZALEZ', 'RAYONES', 'DEL PASEO',\n",
       "       'ARBOLEDAS DEL VALLE', 'COLONIA MIGUEL HIDALGO',\n",
       "       'HACIENDA LOS NOGALES', 'MIRADOR RESIDENCIAL', 'EL CARMEN',\n",
       "       'AQUILES SERDÁN', 'LOS ALDAMAS', 'DEL VIDRIO', 'VALLE ORIENTE'],\n",
       "      dtype=object)"
      ]
     },
     "execution_count": 60,
     "metadata": {},
     "output_type": "execute_result"
    }
   ],
   "source": [
    "data[\"CIUDAD_APROXIMADA\"].unique()"
   ]
  },
  {
   "cell_type": "code",
   "execution_count": 68,
   "metadata": {},
   "outputs": [
    {
     "name": "stdout",
     "output_type": "stream",
     "text": [
      "Hay 60 ciudades cercanas\n"
     ]
    }
   ],
   "source": [
    "print(f\"Hay {len(set(data['CIUDAD_APROXIMADA'].unique().tolist()))} ciudades cercanas\")"
   ]
  },
  {
   "cell_type": "markdown",
   "metadata": {},
   "source": [
    "## Ya se puede considerar limpio el dataset, vamos a exportarlo como .csv"
   ]
  },
  {
   "cell_type": "code",
   "execution_count": 70,
   "metadata": {},
   "outputs": [],
   "source": [
    "data.to_csv('../datasets/datlas_clean.csv', index = False, header=True)"
   ]
  }
 ],
 "metadata": {
  "kernelspec": {
   "display_name": "Python 3",
   "language": "python",
   "name": "python3"
  },
  "language_info": {
   "codemirror_mode": {
    "name": "ipython",
    "version": 3
   },
   "file_extension": ".py",
   "mimetype": "text/x-python",
   "name": "python",
   "nbconvert_exporter": "python",
   "pygments_lexer": "ipython3",
   "version": "3.7.4"
  }
 },
 "nbformat": 4,
 "nbformat_minor": 2
}
